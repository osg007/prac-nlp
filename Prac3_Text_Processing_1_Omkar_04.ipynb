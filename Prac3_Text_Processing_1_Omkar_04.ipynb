{
  "nbformat": 4,
  "nbformat_minor": 0,
  "metadata": {
    "colab": {
      "name": "Prac3_Text_Processing_1_Omkar_04.ipynb",
      "provenance": [],
      "collapsed_sections": [],
      "authorship_tag": "ABX9TyNAPl1D+WSbDJSQmHEQDBQW",
      "include_colab_link": true
    },
    "kernelspec": {
      "name": "python3",
      "display_name": "Python 3"
    },
    "language_info": {
      "name": "python"
    }
  },
  "cells": [
    {
      "cell_type": "markdown",
      "metadata": {
        "id": "view-in-github",
        "colab_type": "text"
      },
      "source": [
        "<a href=\"https://colab.research.google.com/github/osg007/prac-nlp/blob/main/Prac3_Text_Processing_1_Omkar_04.ipynb\" target=\"_parent\"><img src=\"https://colab.research.google.com/assets/colab-badge.svg\" alt=\"Open In Colab\"/></a>"
      ]
    },
    {
      "cell_type": "markdown",
      "metadata": {
        "id": "S_M5bqVwR4dI"
      },
      "source": [
        "Text Processing - 1\n",
        "\n",
        "Text Processing - 1\n",
        "Tokenize Text using NLTK\n",
        "\n",
        "Sentence Tokenization\n",
        "\n",
        "PunktSentenceTokenizer\n",
        "Tokenize sentence of different language\n",
        "Word Tokenization\n",
        "Using TreebankWordTokenizer\n",
        "PunktWordTokenizer\n",
        "WordPunctTokenizer\n",
        "Using Regular Expression\n",
        "Tokenize text using NLTK in python\n",
        "\n",
        "\n"
      ]
    },
    {
      "cell_type": "code",
      "metadata": {
        "colab": {
          "base_uri": "https://localhost:8080/"
        },
        "id": "iBs72GizR7Pm",
        "outputId": "49ff8538-7739-4cb5-a300-cae7f22e7569"
      },
      "source": [
        "from nltk.tokenize import sent_tokenize, word_tokenize\n",
        "from urllib import request\n",
        "from __future__ import division\n",
        "import nltk, re, pprint\n",
        "from nltk import word_tokenize\n",
        "import nltk\n",
        "nltk.download('punkt')"
      ],
      "execution_count": null,
      "outputs": [
        {
          "output_type": "stream",
          "text": [
            "[nltk_data] Downloading package punkt to /root/nltk_data...\n",
            "[nltk_data]   Unzipping tokenizers/punkt.zip.\n"
          ],
          "name": "stdout"
        },
        {
          "output_type": "execute_result",
          "data": {
            "text/plain": [
              "True"
            ]
          },
          "metadata": {
            "tags": []
          },
          "execution_count": 1
        }
      ]
    },
    {
      "cell_type": "code",
      "metadata": {
        "id": "pxp089U_ShUe"
      },
      "source": [
        "text = \"Natural language processing (NLP) is a field \" + \\\n",
        "       \"of computer science, artificial intelligence \" + \\\n",
        "       \"and computational linguistics concerned with \" + \\\n",
        "       \"the interactions between computers and human \" + \\\n",
        "       \"(natural) languages, and, in particular, \" + \\\n",
        "       \"concerned with programming computers to \" + \\\n",
        "       \"fruitfully process large natural language \" + \\\n",
        "       \"corpora. Challenges in natural language \" + \\\n",
        "       \"processing frequently involve natural \" + \\\n",
        "       \"language understanding, natural language\" + \\\n",
        "       \"generation frequently from formal, machine\" + \\\n",
        "       \"-readable logical forms), connecting language \" + \\\n",
        "       \"and machine perception, managing human-\" + \\\n",
        "       \"computer dialog systems, or some combination \" + \\\n",
        "       \"thereof.\""
      ],
      "execution_count": null,
      "outputs": []
    },
    {
      "cell_type": "code",
      "metadata": {
        "colab": {
          "base_uri": "https://localhost:8080/"
        },
        "id": "INKZCDbSS4eV",
        "outputId": "c686c518-7164-4676-bdc2-570543fa6630"
      },
      "source": [
        "print(sent_tokenize(text))"
      ],
      "execution_count": null,
      "outputs": [
        {
          "output_type": "stream",
          "text": [
            "['Natural language processing (NLP) is a field of computer science, artificial intelligence and computational linguistics concerned with the interactions between computers and human (natural) languages, and, in particular, concerned with programming computers to fruitfully process large natural language corpora.', 'Challenges in natural language processing frequently involve natural language understanding, natural languagegeneration frequently from formal, machine-readable logical forms), connecting language and machine perception, managing human-computer dialog systems, or some combination thereof.']\n"
          ],
          "name": "stdout"
        }
      ]
    },
    {
      "cell_type": "code",
      "metadata": {
        "colab": {
          "base_uri": "https://localhost:8080/"
        },
        "id": "WQedA8TQS9F6",
        "outputId": "46193f6d-fadc-4eb3-b0e7-48999cf6ed89"
      },
      "source": [
        "print(word_tokenize(text))"
      ],
      "execution_count": null,
      "outputs": [
        {
          "output_type": "stream",
          "text": [
            "['Natural', 'language', 'processing', '(', 'NLP', ')', 'is', 'a', 'field', 'of', 'computer', 'science', ',', 'artificial', 'intelligence', 'and', 'computational', 'linguistics', 'concerned', 'with', 'the', 'interactions', 'between', 'computers', 'and', 'human', '(', 'natural', ')', 'languages', ',', 'and', ',', 'in', 'particular', ',', 'concerned', 'with', 'programming', 'computers', 'to', 'fruitfully', 'process', 'large', 'natural', 'language', 'corpora', '.', 'Challenges', 'in', 'natural', 'language', 'processing', 'frequently', 'involve', 'natural', 'language', 'understanding', ',', 'natural', 'languagegeneration', 'frequently', 'from', 'formal', ',', 'machine-readable', 'logical', 'forms', ')', ',', 'connecting', 'language', 'and', 'machine', 'perception', ',', 'managing', 'human-computer', 'dialog', 'systems', ',', 'or', 'some', 'combination', 'thereof', '.']\n"
          ],
          "name": "stdout"
        }
      ]
    },
    {
      "cell_type": "markdown",
      "metadata": {
        "id": "V9l5oHX2TA0m"
      },
      "source": [
        "Tokenizing text, sentence, words works\n",
        "\n",
        "Code #1: Sentence Tokenization – Splitting sentences in the paragraph"
      ]
    },
    {
      "cell_type": "code",
      "metadata": {
        "colab": {
          "base_uri": "https://localhost:8080/"
        },
        "id": "n3ImQj6lTErN",
        "outputId": "89525233-f570-42b4-aa1c-226a155fcc60"
      },
      "source": [
        "from nltk.tokenize import sent_tokenize\n",
        "  \n",
        "text = \"Hello everyone. Welcome to GeeksforGeeks. You are studying NLP article\"\n",
        "sent_tokenize(text)"
      ],
      "execution_count": null,
      "outputs": [
        {
          "output_type": "execute_result",
          "data": {
            "text/plain": [
              "['Hello everyone.',\n",
              " 'Welcome to GeeksforGeeks.',\n",
              " 'You are studying NLP article']"
            ]
          },
          "metadata": {
            "tags": []
          },
          "execution_count": 11
        }
      ]
    },
    {
      "cell_type": "markdown",
      "metadata": {
        "id": "UYysqOwkTJYE"
      },
      "source": [
        "\n",
        "Code #2: PunktSentenceTokenizer – When we have huge chunks of data then it is efficient to use it."
      ]
    },
    {
      "cell_type": "code",
      "metadata": {
        "colab": {
          "base_uri": "https://localhost:8080/"
        },
        "id": "tB1IMogeTMJD",
        "outputId": "79fa8ce6-86cf-4c9a-fc11-55123d948b19"
      },
      "source": [
        "import nltk.data\n",
        "  \n",
        "# Loading PunktSentenceTokenizer using English pickle file\n",
        "tokenizer = nltk.data.load('tokenizers/punkt/PY3/english.pickle')\n",
        "  \n",
        "tokenizer.tokenize(text)"
      ],
      "execution_count": null,
      "outputs": [
        {
          "output_type": "execute_result",
          "data": {
            "text/plain": [
              "['Hello everyone.',\n",
              " 'Welcome to GeeksforGeeks.',\n",
              " 'You are studying NLP article']"
            ]
          },
          "metadata": {
            "tags": []
          },
          "execution_count": 12
        }
      ]
    },
    {
      "cell_type": "markdown",
      "metadata": {
        "id": "9OVMnbsbTP0p"
      },
      "source": [
        "Code #3: Tokenize sentence of different language – One can also tokenize sentence from different languages using different pickle file other than English.\n"
      ]
    },
    {
      "cell_type": "code",
      "metadata": {
        "colab": {
          "base_uri": "https://localhost:8080/"
        },
        "id": "3VDNfNwyTTDm",
        "outputId": "7ab96e0e-ec50-47ac-9227-7af565a8033b"
      },
      "source": [
        "spanish_tokenizer = nltk.data.load('tokenizers/punkt/PY3/spanish.pickle')\n",
        "  \n",
        "text = 'Hola amigo. Estoy bien.'\n",
        "spanish_tokenizer.tokenize(text)"
      ],
      "execution_count": null,
      "outputs": [
        {
          "output_type": "execute_result",
          "data": {
            "text/plain": [
              "['Hola amigo.', 'Estoy bien.']"
            ]
          },
          "metadata": {
            "tags": []
          },
          "execution_count": 13
        }
      ]
    },
    {
      "cell_type": "markdown",
      "metadata": {
        "id": "Ohv7BfbZTXqc"
      },
      "source": [
        "Code #4: Word Tokenization – Splitting words in a sentence."
      ]
    },
    {
      "cell_type": "code",
      "metadata": {
        "colab": {
          "base_uri": "https://localhost:8080/"
        },
        "id": "1ufFADCjTa-O",
        "outputId": "dde5690d-ba4d-4a82-f074-78e047d8e805"
      },
      "source": [
        "text = \"Hello everyone. Welcome to GeeksforGeeks.\"\n",
        "word_tokenize(text)"
      ],
      "execution_count": null,
      "outputs": [
        {
          "output_type": "execute_result",
          "data": {
            "text/plain": [
              "['Hello', 'everyone', '.', 'Welcome', 'to', 'GeeksforGeeks', '.']"
            ]
          },
          "metadata": {
            "tags": []
          },
          "execution_count": 14
        }
      ]
    },
    {
      "cell_type": "markdown",
      "metadata": {
        "id": "GspzX9CaTfHF"
      },
      "source": [
        "Code #5: Using TreebankWordTokenizer"
      ]
    },
    {
      "cell_type": "code",
      "metadata": {
        "colab": {
          "base_uri": "https://localhost:8080/"
        },
        "id": "h-b9eb9AThzA",
        "outputId": "2248a69b-b47d-4efd-e6c4-ff9a72e24c88"
      },
      "source": [
        "from nltk.tokenize import TreebankWordTokenizer\n",
        "  \n",
        "tokenizer = TreebankWordTokenizer()\n",
        "tokenizer.tokenize(text)"
      ],
      "execution_count": null,
      "outputs": [
        {
          "output_type": "execute_result",
          "data": {
            "text/plain": [
              "['Hello', 'everyone.', 'Welcome', 'to', 'GeeksforGeeks', '.']"
            ]
          },
          "metadata": {
            "tags": []
          },
          "execution_count": 15
        }
      ]
    },
    {
      "cell_type": "markdown",
      "metadata": {
        "id": "F8V4Xw2VTl-7"
      },
      "source": [
        "Code #6: WordPunctTokenizer – It seperates the punctuation from the words"
      ]
    },
    {
      "cell_type": "code",
      "metadata": {
        "colab": {
          "base_uri": "https://localhost:8080/"
        },
        "id": "nGLOdf0HTo0T",
        "outputId": "1fbae7c4-24b6-4a62-84e9-ad1aa08dd6d4"
      },
      "source": [
        "from nltk.tokenize import WordPunctTokenizer\n",
        "\n",
        "tokenizer = WordPunctTokenizer()\n",
        "tokenizer.tokenize(\"Let's see how it's working.\")"
      ],
      "execution_count": null,
      "outputs": [
        {
          "output_type": "execute_result",
          "data": {
            "text/plain": [
              "['Let', \"'\", 's', 'see', 'how', 'it', \"'\", 's', 'working', '.']"
            ]
          },
          "metadata": {
            "tags": []
          },
          "execution_count": 16
        }
      ]
    },
    {
      "cell_type": "markdown",
      "metadata": {
        "id": "n9O9vPXpTsux"
      },
      "source": [
        "Code #7: Using Regular Expression"
      ]
    },
    {
      "cell_type": "code",
      "metadata": {
        "colab": {
          "base_uri": "https://localhost:8080/"
        },
        "id": "Eu9ZlE7-TvSh",
        "outputId": "1e10bffc-dfa2-45ad-cc35-aade5e9ade61"
      },
      "source": [
        "from nltk.tokenize import RegexpTokenizer\n",
        "  \n",
        "tokenizer = RegexpTokenizer(\"[\\w']+\")\n",
        "text = \"Let's see how it's working.\"\n",
        "tokenizer.tokenize(text)"
      ],
      "execution_count": null,
      "outputs": [
        {
          "output_type": "execute_result",
          "data": {
            "text/plain": [
              "[\"Let's\", 'see', 'how', \"it's\", 'working']"
            ]
          },
          "metadata": {
            "tags": []
          },
          "execution_count": 17
        }
      ]
    },
    {
      "cell_type": "markdown",
      "metadata": {
        "id": "yFXBiu-8TzaB"
      },
      "source": [
        "Code #7: Using Regular Expression"
      ]
    },
    {
      "cell_type": "code",
      "metadata": {
        "colab": {
          "base_uri": "https://localhost:8080/"
        },
        "id": "w_oeAi-tT2ra",
        "outputId": "39487389-ec45-4dec-d86b-cebc7ef54ae3"
      },
      "source": [
        "from nltk.tokenize import regexp_tokenize\n",
        "  \n",
        "text = \"Let's see how it's working.\"\n",
        "regexp_tokenize(text, \"[\\w']+\")"
      ],
      "execution_count": null,
      "outputs": [
        {
          "output_type": "execute_result",
          "data": {
            "text/plain": [
              "[\"Let's\", 'see', 'how', \"it's\", 'working']"
            ]
          },
          "metadata": {
            "tags": []
          },
          "execution_count": 18
        }
      ]
    }
  ]
}