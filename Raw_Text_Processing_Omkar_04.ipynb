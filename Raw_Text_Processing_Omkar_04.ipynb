{
  "nbformat": 4,
  "nbformat_minor": 0,
  "metadata": {
    "colab": {
      "name": "Raw_Text_Processing_Omkar_04.ipynb",
      "provenance": [],
      "authorship_tag": "ABX9TyMhhgqWdS7Im0Xwt5UA+KVJ",
      "include_colab_link": true
    },
    "kernelspec": {
      "name": "python3",
      "display_name": "Python 3"
    },
    "language_info": {
      "name": "python"
    }
  },
  "cells": [
    {
      "cell_type": "markdown",
      "metadata": {
        "id": "view-in-github",
        "colab_type": "text"
      },
      "source": [
        "<a href=\"https://colab.research.google.com/github/osg007/prac-nlp/blob/main/Raw_Text_Processing_Omkar_04.ipynb\" target=\"_parent\"><img src=\"https://colab.research.google.com/assets/colab-badge.svg\" alt=\"Open In Colab\"/></a>"
      ]
    },
    {
      "cell_type": "markdown",
      "metadata": {
        "id": "4R1LhGmHCp2B"
      },
      "source": [
        "Practical 2 - Processing Raw Text\n",
        "\n",
        "Accessing text from Web.\n",
        "Accessing local text file.\n",
        "Accessing text from PDF, Word and other Binary Format\n",
        "NLP Pipeline\n",
        "1. Accessing text from Web."
      ]
    },
    {
      "cell_type": "code",
      "metadata": {
        "id": "qvS_4eI-CwiM"
      },
      "source": [
        "from urllib import request"
      ],
      "execution_count": 1,
      "outputs": []
    },
    {
      "cell_type": "code",
      "metadata": {
        "id": "EoDz_kqXC0Hd"
      },
      "source": [
        "url = \"http://www.gutenberg.org/files/2554/2554-0.txt\""
      ],
      "execution_count": 2,
      "outputs": []
    },
    {
      "cell_type": "code",
      "metadata": {
        "id": "DxBvs8xTC326"
      },
      "source": [
        "from __future__ import division"
      ],
      "execution_count": 3,
      "outputs": []
    },
    {
      "cell_type": "code",
      "metadata": {
        "id": "sqxAtAZdC6au"
      },
      "source": [
        "import nltk, re, pprint"
      ],
      "execution_count": 5,
      "outputs": []
    },
    {
      "cell_type": "code",
      "metadata": {
        "id": "ONrkspdADEtt"
      },
      "source": [
        "from nltk import word_tokenize"
      ],
      "execution_count": 6,
      "outputs": []
    },
    {
      "cell_type": "code",
      "metadata": {
        "id": "VMgyeL4zDUjy"
      },
      "source": [
        "response = request.urlopen(url)"
      ],
      "execution_count": 7,
      "outputs": []
    },
    {
      "cell_type": "code",
      "metadata": {
        "id": "K0EUFMLADYBR"
      },
      "source": [
        "raw = response.read().decode('utf8')"
      ],
      "execution_count": 8,
      "outputs": []
    },
    {
      "cell_type": "code",
      "metadata": {
        "colab": {
          "base_uri": "https://localhost:8080/"
        },
        "id": "htIl_wRlDcFm",
        "outputId": "25e72f8e-ad8b-4952-b221-2b857d83b495"
      },
      "source": [
        "type(raw)"
      ],
      "execution_count": 9,
      "outputs": [
        {
          "output_type": "execute_result",
          "data": {
            "text/plain": [
              "str"
            ]
          },
          "metadata": {
            "tags": []
          },
          "execution_count": 9
        }
      ]
    },
    {
      "cell_type": "code",
      "metadata": {
        "colab": {
          "base_uri": "https://localhost:8080/"
        },
        "id": "-IoacLl_DiHb",
        "outputId": "7633d88a-25ae-41b8-86ad-cfbdb901bdb9"
      },
      "source": [
        "len(raw)"
      ],
      "execution_count": 10,
      "outputs": [
        {
          "output_type": "execute_result",
          "data": {
            "text/plain": [
              "1176967"
            ]
          },
          "metadata": {
            "tags": []
          },
          "execution_count": 10
        }
      ]
    },
    {
      "cell_type": "code",
      "metadata": {
        "colab": {
          "base_uri": "https://localhost:8080/",
          "height": 35
        },
        "id": "HTIxn-niDlUj",
        "outputId": "d1a85f76-f71a-4abc-c8c3-d4172207716b"
      },
      "source": [
        "raw[:75]"
      ],
      "execution_count": 11,
      "outputs": [
        {
          "output_type": "execute_result",
          "data": {
            "application/vnd.google.colaboratory.intrinsic+json": {
              "type": "string"
            },
            "text/plain": [
              "'\\ufeffThe Project Gutenberg EBook of Crime and Punishment, by Fyodor Dostoevsky\\r'"
            ]
          },
          "metadata": {
            "tags": []
          },
          "execution_count": 11
        }
      ]
    },
    {
      "cell_type": "code",
      "metadata": {
        "colab": {
          "base_uri": "https://localhost:8080/"
        },
        "id": "KTpEPbA4Do0i",
        "outputId": "0726866a-b6e2-45bb-de26-8dc75248a003"
      },
      "source": [
        "import nltk\n",
        "nltk.download('punkt')\n",
        "from nltk import word_tokenize"
      ],
      "execution_count": 15,
      "outputs": [
        {
          "output_type": "stream",
          "text": [
            "[nltk_data] Downloading package punkt to /root/nltk_data...\n",
            "[nltk_data]   Unzipping tokenizers/punkt.zip.\n"
          ],
          "name": "stdout"
        }
      ]
    },
    {
      "cell_type": "code",
      "metadata": {
        "colab": {
          "base_uri": "https://localhost:8080/"
        },
        "id": "ECODPXIADtn9",
        "outputId": "6b2b7521-0e05-464a-aacc-34e1e2519178"
      },
      "source": [
        "tokens = word_tokenize(raw)\n",
        "type(tokens)"
      ],
      "execution_count": 16,
      "outputs": [
        {
          "output_type": "execute_result",
          "data": {
            "text/plain": [
              "list"
            ]
          },
          "metadata": {
            "tags": []
          },
          "execution_count": 16
        }
      ]
    },
    {
      "cell_type": "code",
      "metadata": {
        "colab": {
          "base_uri": "https://localhost:8080/"
        },
        "id": "mAPR6LaHEDm7",
        "outputId": "49072b89-0fcf-4a2a-99eb-b71463f22127"
      },
      "source": [
        "len(tokens)"
      ],
      "execution_count": 17,
      "outputs": [
        {
          "output_type": "execute_result",
          "data": {
            "text/plain": [
              "257727"
            ]
          },
          "metadata": {
            "tags": []
          },
          "execution_count": 17
        }
      ]
    },
    {
      "cell_type": "code",
      "metadata": {
        "colab": {
          "base_uri": "https://localhost:8080/"
        },
        "id": "qEKWx-75EGW-",
        "outputId": "8befc28e-94ac-4e7b-eaa6-42baf487a849"
      },
      "source": [
        "tokens[:10]"
      ],
      "execution_count": 18,
      "outputs": [
        {
          "output_type": "execute_result",
          "data": {
            "text/plain": [
              "['\\ufeffThe',\n",
              " 'Project',\n",
              " 'Gutenberg',\n",
              " 'EBook',\n",
              " 'of',\n",
              " 'Crime',\n",
              " 'and',\n",
              " 'Punishment',\n",
              " ',',\n",
              " 'by']"
            ]
          },
          "metadata": {
            "tags": []
          },
          "execution_count": 18
        }
      ]
    },
    {
      "cell_type": "code",
      "metadata": {
        "id": "K240nidqEJww"
      },
      "source": [
        "text = nltk.Text(tokens)"
      ],
      "execution_count": 19,
      "outputs": []
    },
    {
      "cell_type": "code",
      "metadata": {
        "colab": {
          "base_uri": "https://localhost:8080/"
        },
        "id": "ZOoxkK4fENeT",
        "outputId": "f6e64da2-6301-4dfd-95b9-5d48b0f5e1f6"
      },
      "source": [
        "type(text)"
      ],
      "execution_count": 20,
      "outputs": [
        {
          "output_type": "execute_result",
          "data": {
            "text/plain": [
              "nltk.text.Text"
            ]
          },
          "metadata": {
            "tags": []
          },
          "execution_count": 20
        }
      ]
    },
    {
      "cell_type": "code",
      "metadata": {
        "colab": {
          "base_uri": "https://localhost:8080/"
        },
        "id": "wIKpxY9nEQXp",
        "outputId": "54a6a7bc-648c-4620-90d4-f087dbeb70ea"
      },
      "source": [
        "text = nltk.Text(tokens)\n",
        "text"
      ],
      "execution_count": 21,
      "outputs": [
        {
          "output_type": "execute_result",
          "data": {
            "text/plain": [
              "<Text: ﻿The Project Gutenberg EBook of Crime and Punishment...>"
            ]
          },
          "metadata": {
            "tags": []
          },
          "execution_count": 21
        }
      ]
    },
    {
      "cell_type": "code",
      "metadata": {
        "colab": {
          "base_uri": "https://localhost:8080/"
        },
        "id": "oz5oxy0EETTA",
        "outputId": "766cb0e5-5baa-4df7-8593-4379c370a6d8"
      },
      "source": [
        "text[1024:1062]"
      ],
      "execution_count": 22,
      "outputs": [
        {
          "output_type": "execute_result",
          "data": {
            "text/plain": [
              "['an',\n",
              " 'exceptionally',\n",
              " 'hot',\n",
              " 'evening',\n",
              " 'early',\n",
              " 'in',\n",
              " 'July',\n",
              " 'a',\n",
              " 'young',\n",
              " 'man',\n",
              " 'came',\n",
              " 'out',\n",
              " 'of',\n",
              " 'the',\n",
              " 'garret',\n",
              " 'in',\n",
              " 'which',\n",
              " 'he',\n",
              " 'lodged',\n",
              " 'in',\n",
              " 'S.',\n",
              " 'Place',\n",
              " 'and',\n",
              " 'walked',\n",
              " 'slowly',\n",
              " ',',\n",
              " 'as',\n",
              " 'though',\n",
              " 'in',\n",
              " 'hesitation',\n",
              " ',',\n",
              " 'towards',\n",
              " 'K.',\n",
              " 'bridge',\n",
              " '.',\n",
              " 'He',\n",
              " 'had',\n",
              " 'successfully']"
            ]
          },
          "metadata": {
            "tags": []
          },
          "execution_count": 22
        }
      ]
    },
    {
      "cell_type": "code",
      "metadata": {
        "colab": {
          "base_uri": "https://localhost:8080/"
        },
        "id": "lpu4231iEV_x",
        "outputId": "ef6360fc-980a-4e9f-9143-e4c355b18ce7"
      },
      "source": [
        "nltk.download('stopwords')\n",
        "text.collocations()"
      ],
      "execution_count": 23,
      "outputs": [
        {
          "output_type": "stream",
          "text": [
            "[nltk_data] Downloading package stopwords to /root/nltk_data...\n",
            "[nltk_data]   Unzipping corpora/stopwords.zip.\n",
            "Katerina Ivanovna; Pyotr Petrovitch; Pulcheria Alexandrovna; Avdotya\n",
            "Romanovna; Rodion Romanovitch; Marfa Petrovna; Sofya Semyonovna; old\n",
            "woman; Project Gutenberg-tm; Porfiry Petrovitch; Amalia Ivanovna;\n",
            "great deal; young man; Nikodim Fomitch; Ilya Petrovitch; Project\n",
            "Gutenberg; Andrey Semyonovitch; Hay Market; Dmitri Prokofitch; Good\n",
            "heavens\n"
          ],
          "name": "stdout"
        }
      ]
    },
    {
      "cell_type": "code",
      "metadata": {
        "colab": {
          "base_uri": "https://localhost:8080/"
        },
        "id": "sXwkfu32EahZ",
        "outputId": "7afe32f0-3268-48cf-bd3f-abce41766fa4"
      },
      "source": [
        "raw.find(\"PART I\")"
      ],
      "execution_count": 24,
      "outputs": [
        {
          "output_type": "execute_result",
          "data": {
            "text/plain": [
              "5336"
            ]
          },
          "metadata": {
            "tags": []
          },
          "execution_count": 24
        }
      ]
    },
    {
      "cell_type": "code",
      "metadata": {
        "colab": {
          "base_uri": "https://localhost:8080/"
        },
        "id": "F3WMHpXNEea8",
        "outputId": "aa5655be-c080-415c-d9fb-2bcaf5f4e6c5"
      },
      "source": [
        "raw.rfind(\"End of Project Gutenberg's Crime\")"
      ],
      "execution_count": 25,
      "outputs": [
        {
          "output_type": "execute_result",
          "data": {
            "text/plain": [
              "-1"
            ]
          },
          "metadata": {
            "tags": []
          },
          "execution_count": 25
        }
      ]
    },
    {
      "cell_type": "code",
      "metadata": {
        "colab": {
          "base_uri": "https://localhost:8080/"
        },
        "id": "ccnxD73BEhCm",
        "outputId": "0a8c3511-cbf2-471d-9062-4cd8f5e61b5a"
      },
      "source": [
        "raw = raw[5338:1157743] [1]\n",
        "raw.find(\"PART I\")"
      ],
      "execution_count": 26,
      "outputs": [
        {
          "output_type": "execute_result",
          "data": {
            "text/plain": [
              "-1"
            ]
          },
          "metadata": {
            "tags": []
          },
          "execution_count": 26
        }
      ]
    },
    {
      "cell_type": "markdown",
      "metadata": {
        "id": "SbMYaydpEnwM"
      },
      "source": [
        "Accessing local text file."
      ]
    },
    {
      "cell_type": "code",
      "metadata": {
        "colab": {
          "base_uri": "https://localhost:8080/"
        },
        "id": "hwQvTP_9EorV",
        "outputId": "b52cd92e-8efe-416f-a100-94f89cd7e2de"
      },
      "source": [
        "import nltk\n",
        "nltk.download('punkt')\n",
        "from nltk import word_tokenize"
      ],
      "execution_count": 27,
      "outputs": [
        {
          "output_type": "stream",
          "text": [
            "[nltk_data] Downloading package punkt to /root/nltk_data...\n",
            "[nltk_data]   Package punkt is already up-to-date!\n"
          ],
          "name": "stdout"
        }
      ]
    },
    {
      "cell_type": "code",
      "metadata": {
        "id": "wbK60IrOE0fo"
      },
      "source": [
        "f = open('NLP.txt')"
      ],
      "execution_count": 28,
      "outputs": []
    },
    {
      "cell_type": "code",
      "metadata": {
        "id": "VwI-fd6HE5br"
      },
      "source": [
        "raw = f.read()"
      ],
      "execution_count": 29,
      "outputs": []
    },
    {
      "cell_type": "code",
      "metadata": {
        "id": "5AvtKlSDE8US"
      },
      "source": [
        "f = open('NLP.txt')"
      ],
      "execution_count": 30,
      "outputs": []
    },
    {
      "cell_type": "code",
      "metadata": {
        "id": "4kk-fxuzFBiT"
      },
      "source": [
        "import os"
      ],
      "execution_count": 31,
      "outputs": []
    },
    {
      "cell_type": "code",
      "metadata": {
        "colab": {
          "base_uri": "https://localhost:8080/"
        },
        "id": "ndSNspBTFCrv",
        "outputId": "f3dd339e-02a0-4f47-e475-95d4bf6f1356"
      },
      "source": [
        "os.listdir('.')"
      ],
      "execution_count": 32,
      "outputs": [
        {
          "output_type": "execute_result",
          "data": {
            "text/plain": [
              "['.config', 'NLP.txt', 'sample_data']"
            ]
          },
          "metadata": {
            "tags": []
          },
          "execution_count": 32
        }
      ]
    },
    {
      "cell_type": "code",
      "metadata": {
        "colab": {
          "base_uri": "https://localhost:8080/",
          "height": 137
        },
        "id": "d3YYaHb0FGKn",
        "outputId": "8619b006-d6c1-4400-b042-36f809ab02a0"
      },
      "source": [
        "f.read()"
      ],
      "execution_count": 33,
      "outputs": [
        {
          "output_type": "execute_result",
          "data": {
            "application/vnd.google.colaboratory.intrinsic+json": {
              "type": "string"
            },
            "text/plain": [
              "\"NLP Tutorial\\nNLP tutorial provides basic and advanced concepts of the NLP tutorial. Our NLP tutorial is designed for beginners and professionals.\\n\\nWhat is NLP?\\nHistory of NLP\\nAdvantages of NLP\\nDisadvantages of NLP\\nComponents of NLP\\nApplications of NLP\\nHow to build an NLP pipeline?\\nPhases of NLP\\nWhy NLP is Difficult?\\nNLP APIs\\nNLP Libraries\\nDifference between Natural language and Computer language\\nWhat is NLP?\\nNLP stands for Natural Language Processing, which is a part of Computer Science, Human language, and Artificial Intelligence. It is the technology that is used by machines to understand, analyse, manipulate, and interpret human's languages. It helps developers to organize knowledge for performing tasks such as translation, automatic summarization, Named Entity Recognition (NER), speech recognition, relationship extraction, and topic segmentation.\\n\\nWhat is NLP\\nHistory of NLP\\n\\n(1940-1960) - Focused on Machine Translation (MT)\\n\\n\\n\\n\\nThe Natural Languages Processing started in the year 1940s.\\n\\n1948 - In the Year 1948, the first recognisable NLP application was introduced in Birkbeck College, London.\\n\\n1950s - In the Year 1950s, there was a conflicting view between linguistics and computer science. Now, Chomsky developed his first book syntactic structures and claimed that language is generative in nature.\\n\\nIn 1957, Chomsky also introduced the idea of Generative Grammar, which is rule based descriptions of syntactic structures.\\n\\n(1960-1980) - Flavored with Artificial Intelligence (AI)\\n\\nIn the year 1960 to 1980, the key developments were:\\n\\nAugmented Transition Networks (ATN)\\n\\nAugmented Transition Networks is a finite state machine that is capable of recognizing regular languages.\\n\\n\""
            ]
          },
          "metadata": {
            "tags": []
          },
          "execution_count": 33
        }
      ]
    },
    {
      "cell_type": "code",
      "metadata": {
        "colab": {
          "base_uri": "https://localhost:8080/"
        },
        "id": "QyEKAsyfFLC5",
        "outputId": "3a52c861-5ffb-485e-d72d-79283f6db6f6"
      },
      "source": [
        "f = open('NLP.txt', 'rU')\n",
        "for line in f:\n",
        "  print(line.strip())"
      ],
      "execution_count": 34,
      "outputs": [
        {
          "output_type": "stream",
          "text": [
            "NLP Tutorial\n",
            "NLP tutorial provides basic and advanced concepts of the NLP tutorial. Our NLP tutorial is designed for beginners and professionals.\n",
            "\n",
            "What is NLP?\n",
            "History of NLP\n",
            "Advantages of NLP\n",
            "Disadvantages of NLP\n",
            "Components of NLP\n",
            "Applications of NLP\n",
            "How to build an NLP pipeline?\n",
            "Phases of NLP\n",
            "Why NLP is Difficult?\n",
            "NLP APIs\n",
            "NLP Libraries\n",
            "Difference between Natural language and Computer language\n",
            "What is NLP?\n",
            "NLP stands for Natural Language Processing, which is a part of Computer Science, Human language, and Artificial Intelligence. It is the technology that is used by machines to understand, analyse, manipulate, and interpret human's languages. It helps developers to organize knowledge for performing tasks such as translation, automatic summarization, Named Entity Recognition (NER), speech recognition, relationship extraction, and topic segmentation.\n",
            "\n",
            "What is NLP\n",
            "History of NLP\n",
            "\n",
            "(1940-1960) - Focused on Machine Translation (MT)\n",
            "\n",
            "\n",
            "\n",
            "\n",
            "The Natural Languages Processing started in the year 1940s.\n",
            "\n",
            "1948 - In the Year 1948, the first recognisable NLP application was introduced in Birkbeck College, London.\n",
            "\n",
            "1950s - In the Year 1950s, there was a conflicting view between linguistics and computer science. Now, Chomsky developed his first book syntactic structures and claimed that language is generative in nature.\n",
            "\n",
            "In 1957, Chomsky also introduced the idea of Generative Grammar, which is rule based descriptions of syntactic structures.\n",
            "\n",
            "(1960-1980) - Flavored with Artificial Intelligence (AI)\n",
            "\n",
            "In the year 1960 to 1980, the key developments were:\n",
            "\n",
            "Augmented Transition Networks (ATN)\n",
            "\n",
            "Augmented Transition Networks is a finite state machine that is capable of recognizing regular languages.\n",
            "\n"
          ],
          "name": "stdout"
        },
        {
          "output_type": "stream",
          "text": [
            "/usr/local/lib/python3.7/dist-packages/ipykernel_launcher.py:1: DeprecationWarning: 'U' mode is deprecated\n",
            "  \"\"\"Entry point for launching an IPython kernel.\n"
          ],
          "name": "stderr"
        }
      ]
    },
    {
      "cell_type": "code",
      "metadata": {
        "colab": {
          "base_uri": "https://localhost:8080/"
        },
        "id": "WhrGbRdJFQED",
        "outputId": "9e7972d8-f2b0-4bb2-c4e2-57c32a02536b"
      },
      "source": [
        "s = input(\"Enter some text: \")"
      ],
      "execution_count": 35,
      "outputs": [
        {
          "output_type": "stream",
          "text": [
            "Enter some text: O\n"
          ],
          "name": "stdout"
        }
      ]
    },
    {
      "cell_type": "code",
      "metadata": {
        "colab": {
          "base_uri": "https://localhost:8080/"
        },
        "id": "nlSe4w3SFfUA",
        "outputId": "00b68480-6f1b-44cb-f71e-5db15debd4af"
      },
      "source": [
        "print(\"You typed\", len(word_tokenize(s)), \"words.\")"
      ],
      "execution_count": 36,
      "outputs": [
        {
          "output_type": "stream",
          "text": [
            "You typed 1 words.\n"
          ],
          "name": "stdout"
        }
      ]
    },
    {
      "cell_type": "code",
      "metadata": {
        "id": "_hGe-dpEFiaf"
      },
      "source": [
        "raw = open('NLP.txt').read()"
      ],
      "execution_count": 37,
      "outputs": []
    },
    {
      "cell_type": "code",
      "metadata": {
        "colab": {
          "base_uri": "https://localhost:8080/"
        },
        "id": "Bsge9QdnFlo4",
        "outputId": "b5130775-7602-4a32-c740-e9f953fc569e"
      },
      "source": [
        "type(raw)"
      ],
      "execution_count": 38,
      "outputs": [
        {
          "output_type": "execute_result",
          "data": {
            "text/plain": [
              "str"
            ]
          },
          "metadata": {
            "tags": []
          },
          "execution_count": 38
        }
      ]
    },
    {
      "cell_type": "code",
      "metadata": {
        "colab": {
          "base_uri": "https://localhost:8080/"
        },
        "id": "XpS6-FaTFoIA",
        "outputId": "be489968-df22-4fbe-9260-988287dc0a9e"
      },
      "source": [
        "tokens = word_tokenize(raw)\n",
        "type(tokens)"
      ],
      "execution_count": 39,
      "outputs": [
        {
          "output_type": "execute_result",
          "data": {
            "text/plain": [
              "list"
            ]
          },
          "metadata": {
            "tags": []
          },
          "execution_count": 39
        }
      ]
    },
    {
      "cell_type": "code",
      "metadata": {
        "colab": {
          "base_uri": "https://localhost:8080/"
        },
        "id": "jdOtWuKIFqw5",
        "outputId": "57a40978-08c6-4253-d07e-5243e1e371ea"
      },
      "source": [
        "words = [w.lower() for w in tokens]\n",
        "type(words)"
      ],
      "execution_count": 40,
      "outputs": [
        {
          "output_type": "execute_result",
          "data": {
            "text/plain": [
              "list"
            ]
          },
          "metadata": {
            "tags": []
          },
          "execution_count": 40
        }
      ]
    },
    {
      "cell_type": "code",
      "metadata": {
        "colab": {
          "base_uri": "https://localhost:8080/"
        },
        "id": "1mxs2btMFuBQ",
        "outputId": "d39f3db1-06e7-4662-a159-2be78c235949"
      },
      "source": [
        "vocab = sorted(set(words))\n",
        "type(vocab)"
      ],
      "execution_count": 41,
      "outputs": [
        {
          "output_type": "execute_result",
          "data": {
            "text/plain": [
              "list"
            ]
          },
          "metadata": {
            "tags": []
          },
          "execution_count": 41
        }
      ]
    }
  ]
}